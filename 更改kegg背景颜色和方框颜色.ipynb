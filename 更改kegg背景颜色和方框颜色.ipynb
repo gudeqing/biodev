{
 "cells": [
  {
   "cell_type": "code",
   "execution_count": null,
   "metadata": {},
   "outputs": [],
   "source": [
    "from PIL import Image, ImageDraw, ImageFont\n",
    "\n",
    "im = Image.open(\"map00010.png\")\n",
    "draw = ImageDraw.Draw(im)\n",
    "# 更改背景颜色\n",
    "draw.rectangle((483-23, 407-8.5,483+23, 407+8.5), fill=(255, 156, 200, 0))\n",
    "del draw\n",
    "im2 = Image.open(\"map00010.png\")\n",
    "im = Image.blend(im, im2, 0.5) # 合并图片并设置透明度\n",
    "# # 更改边框颜色\n",
    "draw = ImageDraw.Draw(im)\n",
    "draw.line([(483-23, 407-8.5), (483+23, 407-8.5)], fill=169) \n",
    "draw.line([(483-23, 407-8.5), (483-23, 407+8.5)], fill=(20, 156, 0, 128)) \n",
    "draw.line([(483+23, 407+8.5), (483-23, 407+8.5)], fill=169) \n",
    "draw.line([(483+23, 407+8.5), (483+23, 407-8.5)], fill=169) \n",
    "del draw\n",
    "im.show()\n",
    "# im.save('x.png')"
   ]
  },
  {
   "cell_type": "markdown",
   "metadata": {
    "collapsed": true
   },
   "source": [
    "import os"
   ]
  },
  {
   "cell_type": "code",
   "execution_count": null,
   "metadata": {},
   "outputs": [],
   "source": [
    ""
   ]
  }
 ],
 "metadata": {
  "kernelspec": {
   "display_name": "Python 3",
   "language": "python",
   "name": "python3"
  },
  "language_info": {
   "codemirror_mode": {
    "name": "ipython",
    "version": 3
   },
   "file_extension": ".py",
   "mimetype": "text/x-python",
   "name": "python",
   "nbconvert_exporter": "python",
   "pygments_lexer": "ipython3",
   "version": "3.6.1"
  }
 },
 "nbformat": 4,
 "nbformat_minor": 2
}
